{
 "cells": [
  {
   "cell_type": "code",
   "execution_count": 1,
   "metadata": {
    "colab": {
     "base_uri": "https://localhost:8080/"
    },
    "executionInfo": {
     "elapsed": 38478,
     "status": "ok",
     "timestamp": 1623401650448,
     "user": {
      "displayName": "Lahari Kumaraswamy",
      "photoUrl": "",
      "userId": "15264609656971606035"
     },
     "user_tz": -330
    },
    "id": "63mcQw7blvDC",
    "outputId": "0e82c477-33e4-4f9e-a1c3-3cfe43852c10"
   },
   "outputs": [
    {
     "name": "stdout",
     "output_type": "stream",
     "text": [
      "Requirement already satisfied: selenium in c:\\users\\lenovo\\anaconda3\\lib\\site-packages (3.141.0)\n",
      "Requirement already satisfied: urllib3 in c:\\users\\lenovo\\anaconda3\\lib\\site-packages (from selenium) (1.26.4)\n"
     ]
    },
    {
     "name": "stderr",
     "output_type": "stream",
     "text": [
      "'apt-get' is not recognized as an internal or external command,\n",
      "operable program or batch file.\n",
      "'apt' is not recognized as an internal or external command,\n",
      "operable program or batch file.\n",
      "<ipython-input-1-46bf94e7166d>:10: DeprecationWarning: use options instead of chrome_options\n",
      "  wd = webdriver.Chrome('chromedriver',chrome_options=chrome_options)\n",
      "<ipython-input-1-46bf94e7166d>:11: DeprecationWarning: use options instead of chrome_options\n",
      "  driver =webdriver.Chrome('chromedriver',chrome_options=chrome_options)\n"
     ]
    }
   ],
   "source": [
    "!pip install selenium\n",
    "!apt-get update \n",
    "!apt install chromium-chromedriver\n",
    "\n",
    "from selenium import webdriver\n",
    "chrome_options = webdriver.ChromeOptions()\n",
    "chrome_options.add_argument('--headless')\n",
    "chrome_options.add_argument('--no-sandbox')\n",
    "chrome_options.add_argument('--disable-dev-shm-usage')\n",
    "wd = webdriver.Chrome('chromedriver',chrome_options=chrome_options)\n",
    "driver =webdriver.Chrome('chromedriver',chrome_options=chrome_options)"
   ]
  },
  {
   "cell_type": "code",
   "execution_count": 2,
   "metadata": {
    "executionInfo": {
     "elapsed": 19,
     "status": "ok",
     "timestamp": 1623401650449,
     "user": {
      "displayName": "Lahari Kumaraswamy",
      "photoUrl": "",
      "userId": "15264609656971606035"
     },
     "user_tz": -330
    },
    "id": "QXRVQiRFl-pS"
   },
   "outputs": [],
   "source": [
    "import selenium\n",
    "import pandas as pd\n",
    "from selenium import webdriver\n",
    "from selenium.common.exceptions import NoSuchElementException\n",
    "import time"
   ]
  },
  {
   "cell_type": "markdown",
   "metadata": {
    "id": "yr5biEBonE3D"
   },
   "source": [
    "Lets scrape all the src of images and store them in form of train and test csv's.Train data will have 200 pictures and\n",
    "test will have 50 picturs."
   ]
  },
  {
   "cell_type": "markdown",
   "metadata": {
    "id": "oQwcxpfmnNUI"
   },
   "source": [
    "# Saree"
   ]
  },
  {
   "cell_type": "code",
   "execution_count": 3,
   "metadata": {
    "executionInfo": {
     "elapsed": 2688,
     "status": "ok",
     "timestamp": 1623401653121,
     "user": {
      "displayName": "Lahari Kumaraswamy",
      "photoUrl": "",
      "userId": "15264609656971606035"
     },
     "user_tz": -330
    },
    "id": "IRGH_Xgfl-3X"
   },
   "outputs": [],
   "source": [
    "#url of the website which needs to be scrapped\n",
    "driver.get(\"https://www.amazon.in/s?k=saree&ref=nb_sb_noss_2\")"
   ]
  },
  {
   "cell_type": "code",
   "execution_count": 4,
   "metadata": {
    "executionInfo": {
     "elapsed": 26,
     "status": "ok",
     "timestamp": 1623401653125,
     "user": {
      "displayName": "Lahari Kumaraswamy",
      "photoUrl": "",
      "userId": "15264609656971606035"
     },
     "user_tz": -330
    },
    "id": "vuP_2cOulS9P"
   },
   "outputs": [],
   "source": [
    "Saree=[]"
   ]
  },
  {
   "cell_type": "code",
   "execution_count": 5,
   "metadata": {
    "executionInfo": {
     "elapsed": 16356,
     "status": "ok",
     "timestamp": 1623401669465,
     "user": {
      "displayName": "Lahari Kumaraswamy",
      "photoUrl": "",
      "userId": "15264609656971606035"
     },
     "user_tz": -330
    },
    "id": "gGP7qii_icLS"
   },
   "outputs": [],
   "source": [
    "#Scrapping data\n",
    "for i in range(6):\n",
    "    saree=driver.find_elements_by_xpath('//img[@class=\"s-image\"]')\n",
    "    for i in saree:\n",
    "      a=i.get_attribute('src')\n",
    "      Saree.append(a)\n",
    "        \n",
    "    driver.find_element_by_xpath('//li[@class=\"a-normal\"]').click()\n",
    "    time.sleep(2)"
   ]
  },
  {
   "cell_type": "code",
   "execution_count": 6,
   "metadata": {
    "colab": {
     "base_uri": "https://localhost:8080/"
    },
    "executionInfo": {
     "elapsed": 35,
     "status": "ok",
     "timestamp": 1623401669466,
     "user": {
      "displayName": "Lahari Kumaraswamy",
      "photoUrl": "",
      "userId": "15264609656971606035"
     },
     "user_tz": -330
    },
    "id": "JA9z0MZQl-6Z",
    "outputId": "42943965-1531-4863-a8fb-ac08d016e66c"
   },
   "outputs": [
    {
     "data": {
      "text/plain": [
       "390"
      ]
     },
     "execution_count": 6,
     "metadata": {},
     "output_type": "execute_result"
    }
   ],
   "source": [
    "#Length of saree\n",
    "len(Saree)"
   ]
  },
  {
   "cell_type": "markdown",
   "metadata": {
    "id": "vv2761zVomBo"
   },
   "source": [
    "# Jeans"
   ]
  },
  {
   "cell_type": "code",
   "execution_count": 7,
   "metadata": {
    "executionInfo": {
     "elapsed": 2692,
     "status": "ok",
     "timestamp": 1623401672150,
     "user": {
      "displayName": "Lahari Kumaraswamy",
      "photoUrl": "",
      "userId": "15264609656971606035"
     },
     "user_tz": -330
    },
    "id": "a23NzIWdl--I"
   },
   "outputs": [],
   "source": [
    "#url of the website which needs to be scrapped\n",
    "driver.get(\"https://www.amazon.in/s?k=jeans+men&ref=nb_sb_noss_2\")"
   ]
  },
  {
   "cell_type": "code",
   "execution_count": 8,
   "metadata": {
    "executionInfo": {
     "elapsed": 19,
     "status": "ok",
     "timestamp": 1623401672158,
     "user": {
      "displayName": "Lahari Kumaraswamy",
      "photoUrl": "",
      "userId": "15264609656971606035"
     },
     "user_tz": -330
    },
    "id": "Cjq5oG7sl-_8"
   },
   "outputs": [],
   "source": [
    "#Creating empty list\n",
    "Jeans=[]"
   ]
  },
  {
   "cell_type": "code",
   "execution_count": 9,
   "metadata": {
    "executionInfo": {
     "elapsed": 11084,
     "status": "ok",
     "timestamp": 1623401683226,
     "user": {
      "displayName": "Lahari Kumaraswamy",
      "photoUrl": "",
      "userId": "15264609656971606035"
     },
     "user_tz": -330
    },
    "id": "Ki5timxBl_Br"
   },
   "outputs": [],
   "source": [
    "#Scrapping data\n",
    "for i in range(4):\n",
    "    jean=driver.find_elements_by_xpath('//img[@class=\"s-image\"]')\n",
    "    for i in jean:\n",
    "      b=i.get_attribute('src')\n",
    "      Jeans.append(b)\n",
    "        \n",
    "    driver.find_element_by_xpath('//li[@class=\"a-normal\"]').click()\n",
    "    time.sleep(2)\n"
   ]
  },
  {
   "cell_type": "code",
   "execution_count": 10,
   "metadata": {
    "colab": {
     "base_uri": "https://localhost:8080/"
    },
    "executionInfo": {
     "elapsed": 29,
     "status": "ok",
     "timestamp": 1623401683229,
     "user": {
      "displayName": "Lahari Kumaraswamy",
      "photoUrl": "",
      "userId": "15264609656971606035"
     },
     "user_tz": -330
    },
    "id": "-iMmLDT2l_FA",
    "outputId": "e0719ffe-aed4-484c-b327-ee287c385049"
   },
   "outputs": [
    {
     "data": {
      "text/plain": [
       "270"
      ]
     },
     "execution_count": 10,
     "metadata": {},
     "output_type": "execute_result"
    }
   ],
   "source": [
    "len(Jeans)"
   ]
  },
  {
   "cell_type": "markdown",
   "metadata": {
    "id": "hBBRMDaPpU80"
   },
   "source": [
    "# Trousers"
   ]
  },
  {
   "cell_type": "code",
   "execution_count": 11,
   "metadata": {
    "executionInfo": {
     "elapsed": 1922,
     "status": "ok",
     "timestamp": 1623401685125,
     "user": {
      "displayName": "Lahari Kumaraswamy",
      "photoUrl": "",
      "userId": "15264609656971606035"
     },
     "user_tz": -330
    },
    "id": "HiYXCygAl_Hq"
   },
   "outputs": [],
   "source": [
    "#url of the website which needs to be scrapped\n",
    "driver.get(\"https://www.amazon.in/s?k=jeans+men&ref=nb_sb_noss_2\")"
   ]
  },
  {
   "cell_type": "code",
   "execution_count": 12,
   "metadata": {
    "executionInfo": {
     "elapsed": 12,
     "status": "ok",
     "timestamp": 1623401685127,
     "user": {
      "displayName": "Lahari Kumaraswamy",
      "photoUrl": "",
      "userId": "15264609656971606035"
     },
     "user_tz": -330
    },
    "id": "tYN9XQERl_Ku"
   },
   "outputs": [],
   "source": [
    "#Creating empty list\n",
    "Trousers=[]"
   ]
  },
  {
   "cell_type": "code",
   "execution_count": 13,
   "metadata": {
    "executionInfo": {
     "elapsed": 11542,
     "status": "ok",
     "timestamp": 1623401696658,
     "user": {
      "displayName": "Lahari Kumaraswamy",
      "photoUrl": "",
      "userId": "15264609656971606035"
     },
     "user_tz": -330
    },
    "id": "tavoDxmql_NG"
   },
   "outputs": [],
   "source": [
    "#Scrapping data\n",
    "for i in range(4):\n",
    "    trou=driver.find_elements_by_xpath('//img[@class=\"s-image\"]')\n",
    "    for i in trou:\n",
    "        c=i.get_attribute('src')\n",
    "        Trousers.append(c)\n",
    "        \n",
    "    driver.find_element_by_xpath('//li[@class=\"a-normal\"]').click()\n",
    "    time.sleep(2)"
   ]
  },
  {
   "cell_type": "code",
   "execution_count": 14,
   "metadata": {
    "colab": {
     "base_uri": "https://localhost:8080/"
    },
    "executionInfo": {
     "elapsed": 147,
     "status": "ok",
     "timestamp": 1623401696660,
     "user": {
      "displayName": "Lahari Kumaraswamy",
      "photoUrl": "",
      "userId": "15264609656971606035"
     },
     "user_tz": -330
    },
    "id": "saz0kndAl_Qn",
    "outputId": "e54e5173-1f7f-4acf-a079-77074650490b"
   },
   "outputs": [
    {
     "data": {
      "text/plain": [
       "270"
      ]
     },
     "execution_count": 14,
     "metadata": {},
     "output_type": "execute_result"
    }
   ],
   "source": [
    "len(Trousers)"
   ]
  },
  {
   "cell_type": "markdown",
   "metadata": {
    "id": "rCNlPKa7qAOZ"
   },
   "source": [
    "#Test and Train csv"
   ]
  },
  {
   "cell_type": "code",
   "execution_count": 15,
   "metadata": {
    "executionInfo": {
     "elapsed": 140,
     "status": "ok",
     "timestamp": 1623401696665,
     "user": {
      "displayName": "Lahari Kumaraswamy",
      "photoUrl": "",
      "userId": "15264609656971606035"
     },
     "user_tz": -330
    },
    "id": "gjVw0C4xl_SR"
   },
   "outputs": [],
   "source": [
    "train_saree=Saree[0:200]\n",
    "train_jeans=Jeans[0:200]\n",
    "train_trousers=Trousers[0:200]"
   ]
  },
  {
   "cell_type": "code",
   "execution_count": 16,
   "metadata": {
    "executionInfo": {
     "elapsed": 135,
     "status": "ok",
     "timestamp": 1623401696668,
     "user": {
      "displayName": "Lahari Kumaraswamy",
      "photoUrl": "",
      "userId": "15264609656971606035"
     },
     "user_tz": -330
    },
    "id": "Lth0HEqDiuhe"
   },
   "outputs": [],
   "source": [
    "train_trousers=Trousers[0:200]"
   ]
  },
  {
   "cell_type": "code",
   "execution_count": 17,
   "metadata": {
    "executionInfo": {
     "elapsed": 131,
     "status": "ok",
     "timestamp": 1623401696670,
     "user": {
      "displayName": "Lahari Kumaraswamy",
      "photoUrl": "",
      "userId": "15264609656971606035"
     },
     "user_tz": -330
    },
    "id": "fRDEjjHml_Vx"
   },
   "outputs": [],
   "source": [
    "test_saree=Saree[200:250]\n",
    "test_jeans=Jeans[200:250]\n",
    "ousetest_trrs=Trousers[200:250]"
   ]
  },
  {
   "cell_type": "code",
   "execution_count": 18,
   "metadata": {
    "executionInfo": {
     "elapsed": 131,
     "status": "ok",
     "timestamp": 1623401696671,
     "user": {
      "displayName": "Lahari Kumaraswamy",
      "photoUrl": "",
      "userId": "15264609656971606035"
     },
     "user_tz": -330
    },
    "id": "mxQ1fnCMizj7"
   },
   "outputs": [],
   "source": [
    "test_trousers=Trousers[200:250]"
   ]
  },
  {
   "cell_type": "code",
   "execution_count": 19,
   "metadata": {
    "colab": {
     "base_uri": "https://localhost:8080/"
    },
    "executionInfo": {
     "elapsed": 130,
     "status": "ok",
     "timestamp": 1623401696671,
     "user": {
      "displayName": "Lahari Kumaraswamy",
      "photoUrl": "",
      "userId": "15264609656971606035"
     },
     "user_tz": -330
    },
    "id": "_hPo_nlmtR5K",
    "outputId": "853e18a8-37cd-4df4-f3ab-0f99e4c8a65d"
   },
   "outputs": [
    {
     "data": {
      "text/plain": [
       "200"
      ]
     },
     "execution_count": 19,
     "metadata": {},
     "output_type": "execute_result"
    }
   ],
   "source": [
    "len(train_saree)"
   ]
  },
  {
   "cell_type": "code",
   "execution_count": 20,
   "metadata": {
    "colab": {
     "base_uri": "https://localhost:8080/"
    },
    "executionInfo": {
     "elapsed": 117,
     "status": "ok",
     "timestamp": 1623401696672,
     "user": {
      "displayName": "Lahari Kumaraswamy",
      "photoUrl": "",
      "userId": "15264609656971606035"
     },
     "user_tz": -330
    },
    "id": "DSST3U6h1Ibs",
    "outputId": "5b1b78b7-02e4-4d41-e2db-5ea108039c83"
   },
   "outputs": [
    {
     "data": {
      "text/plain": [
       "200"
      ]
     },
     "execution_count": 20,
     "metadata": {},
     "output_type": "execute_result"
    }
   ],
   "source": [
    "len(train_jeans)"
   ]
  },
  {
   "cell_type": "code",
   "execution_count": 21,
   "metadata": {
    "colab": {
     "base_uri": "https://localhost:8080/"
    },
    "executionInfo": {
     "elapsed": 114,
     "status": "ok",
     "timestamp": 1623401696672,
     "user": {
      "displayName": "Lahari Kumaraswamy",
      "photoUrl": "",
      "userId": "15264609656971606035"
     },
     "user_tz": -330
    },
    "id": "zCAdi7cB1IfZ",
    "outputId": "d501426f-a98d-4b7d-941a-83b89e65bbd8"
   },
   "outputs": [
    {
     "data": {
      "text/plain": [
       "200"
      ]
     },
     "execution_count": 21,
     "metadata": {},
     "output_type": "execute_result"
    }
   ],
   "source": [
    "len(train_trousers)"
   ]
  },
  {
   "cell_type": "code",
   "execution_count": 22,
   "metadata": {
    "colab": {
     "base_uri": "https://localhost:8080/"
    },
    "executionInfo": {
     "elapsed": 102,
     "status": "ok",
     "timestamp": 1623401696673,
     "user": {
      "displayName": "Lahari Kumaraswamy",
      "photoUrl": "",
      "userId": "15264609656971606035"
     },
     "user_tz": -330
    },
    "id": "hn5DpSt-1IiQ",
    "outputId": "994c0438-bb4a-4f97-f112-55eea38322e3"
   },
   "outputs": [
    {
     "data": {
      "text/plain": [
       "50"
      ]
     },
     "execution_count": 22,
     "metadata": {},
     "output_type": "execute_result"
    }
   ],
   "source": [
    "len(test_saree)"
   ]
  },
  {
   "cell_type": "code",
   "execution_count": 23,
   "metadata": {
    "colab": {
     "base_uri": "https://localhost:8080/"
    },
    "executionInfo": {
     "elapsed": 98,
     "status": "ok",
     "timestamp": 1623401696673,
     "user": {
      "displayName": "Lahari Kumaraswamy",
      "photoUrl": "",
      "userId": "15264609656971606035"
     },
     "user_tz": -330
    },
    "id": "NPq6likw1Ik0",
    "outputId": "ff7a3b08-f912-443c-c524-8a6e1ce3d614"
   },
   "outputs": [
    {
     "data": {
      "text/plain": [
       "50"
      ]
     },
     "execution_count": 23,
     "metadata": {},
     "output_type": "execute_result"
    }
   ],
   "source": [
    "len(test_jeans)"
   ]
  },
  {
   "cell_type": "code",
   "execution_count": 24,
   "metadata": {
    "colab": {
     "base_uri": "https://localhost:8080/"
    },
    "executionInfo": {
     "elapsed": 86,
     "status": "ok",
     "timestamp": 1623401696674,
     "user": {
      "displayName": "Lahari Kumaraswamy",
      "photoUrl": "",
      "userId": "15264609656971606035"
     },
     "user_tz": -330
    },
    "id": "Ln7yD_w01Iog",
    "outputId": "4186be83-225d-46ef-a338-0f617feddee8"
   },
   "outputs": [
    {
     "data": {
      "text/plain": [
       "50"
      ]
     },
     "execution_count": 24,
     "metadata": {},
     "output_type": "execute_result"
    }
   ],
   "source": [
    "len(test_trousers)"
   ]
  },
  {
   "cell_type": "code",
   "execution_count": 25,
   "metadata": {
    "executionInfo": {
     "elapsed": 83,
     "status": "ok",
     "timestamp": 1623401696675,
     "user": {
      "displayName": "Lahari Kumaraswamy",
      "photoUrl": "",
      "userId": "15264609656971606035"
     },
     "user_tz": -330
    },
    "id": "kY6XQghMkyIC"
   },
   "outputs": [],
   "source": [
    "train_saree=pd.DataFrame(train_saree,columns=[\"url\"])\n",
    "train_jeans=pd.DataFrame(train_jeans,columns=[\"url\"])\n",
    "train_trousers=pd.DataFrame(train_trousers,columns=[\"url\"])\n",
    "test_saree=pd.DataFrame(test_saree,columns=[\"url\"])\n",
    "test_jeans=pd.DataFrame(test_jeans,columns=[\"url\"])\n",
    "test_trousers=pd.DataFrame(test_trousers,columns=[\"url\"])"
   ]
  },
  {
   "cell_type": "markdown",
   "metadata": {
    "id": "0jhf9SHo-jYD"
   },
   "source": [
    "# Downloading images to folder"
   ]
  },
  {
   "cell_type": "code",
   "execution_count": 26,
   "metadata": {
    "executionInfo": {
     "elapsed": 83,
     "status": "ok",
     "timestamp": 1623401696676,
     "user": {
      "displayName": "Lahari Kumaraswamy",
      "photoUrl": "",
      "userId": "15264609656971606035"
     },
     "user_tz": -330
    },
    "id": "Mjf1o0b2-b3f"
   },
   "outputs": [],
   "source": [
    "import urllib\n",
    "from urllib.request import urlretrieve\n",
    "import os"
   ]
  },
  {
   "cell_type": "code",
   "execution_count": 27,
   "metadata": {
    "executionInfo": {
     "elapsed": 72,
     "status": "ok",
     "timestamp": 1623401696678,
     "user": {
      "displayName": "Lahari Kumaraswamy",
      "photoUrl": "",
      "userId": "15264609656971606035"
     },
     "user_tz": -330
    },
    "id": "au4eUY07mqPr"
   },
   "outputs": [],
   "source": [
    "save_folder=\"MyDrive/Projects/Image Processing/Train/Saree\""
   ]
  },
  {
   "cell_type": "code",
   "execution_count": 28,
   "metadata": {
    "executionInfo": {
     "elapsed": 73,
     "status": "ok",
     "timestamp": 1623401696681,
     "user": {
      "displayName": "Lahari Kumaraswamy",
      "photoUrl": "",
      "userId": "15264609656971606035"
     },
     "user_tz": -330
    },
    "id": "ag42CeY1mqvH"
   },
   "outputs": [],
   "source": [
    "def main():\n",
    "    if not os.path.exists(save_folder):\n",
    "        os.mkdir(save_folder)"
   ]
  },
  {
   "cell_type": "code",
   "execution_count": 32,
   "metadata": {
    "executionInfo": {
     "elapsed": 74,
     "status": "ok",
     "timestamp": 1623401696683,
     "user": {
      "displayName": "Lahari Kumaraswamy",
      "photoUrl": "",
      "userId": "15264609656971606035"
     },
     "user_tz": -330
    },
    "id": "nOuV4-R2EQUJ"
   },
   "outputs": [],
   "source": [
    "def download_image(X):\n",
    "    for i,j in X.iterrows():urllib.request.urlretrieve(i,os.path.join(str(j)+\".jpg\"))"
   ]
  },
  {
   "cell_type": "code",
   "execution_count": 33,
   "metadata": {
    "colab": {
     "base_uri": "https://localhost:8080/",
     "height": 319
    },
    "executionInfo": {
     "elapsed": 530,
     "status": "error",
     "timestamp": 1623401697144,
     "user": {
      "displayName": "Lahari Kumaraswamy",
      "photoUrl": "",
      "userId": "15264609656971606035"
     },
     "user_tz": -330
    },
    "id": "8RImv0-ZEQbC",
    "outputId": "d3a6b515-52b0-426d-dbd4-98b48d080171"
   },
   "outputs": [
    {
     "ename": "TypeError",
     "evalue": "expected string or bytes-like object",
     "output_type": "error",
     "traceback": [
      "\u001b[1;31m---------------------------------------------------------------------------\u001b[0m",
      "\u001b[1;31mTypeError\u001b[0m                                 Traceback (most recent call last)",
      "\u001b[1;32m<ipython-input-33-6dbdce447f7e>\u001b[0m in \u001b[0;36m<module>\u001b[1;34m\u001b[0m\n\u001b[0;32m      1\u001b[0m \u001b[1;32mif\u001b[0m \u001b[0m__name__\u001b[0m\u001b[1;33m==\u001b[0m\u001b[1;34m\"__main__\"\u001b[0m\u001b[1;33m:\u001b[0m\u001b[1;33m\u001b[0m\u001b[1;33m\u001b[0m\u001b[0m\n\u001b[1;32m----> 2\u001b[1;33m     \u001b[0mdownload_image\u001b[0m\u001b[1;33m(\u001b[0m\u001b[0mtrain_jeans\u001b[0m\u001b[1;33m)\u001b[0m\u001b[1;33m\u001b[0m\u001b[1;33m\u001b[0m\u001b[0m\n\u001b[0m",
      "\u001b[1;32m<ipython-input-32-50a2fe299929>\u001b[0m in \u001b[0;36mdownload_image\u001b[1;34m(X)\u001b[0m\n\u001b[0;32m      1\u001b[0m \u001b[1;32mdef\u001b[0m \u001b[0mdownload_image\u001b[0m\u001b[1;33m(\u001b[0m\u001b[0mX\u001b[0m\u001b[1;33m)\u001b[0m\u001b[1;33m:\u001b[0m\u001b[1;33m\u001b[0m\u001b[1;33m\u001b[0m\u001b[0m\n\u001b[0;32m      2\u001b[0m   \u001b[1;32mfor\u001b[0m \u001b[0mi\u001b[0m\u001b[1;33m,\u001b[0m\u001b[0mj\u001b[0m \u001b[1;32min\u001b[0m \u001b[0mX\u001b[0m\u001b[1;33m.\u001b[0m\u001b[0miterrows\u001b[0m\u001b[1;33m(\u001b[0m\u001b[1;33m)\u001b[0m\u001b[1;33m:\u001b[0m\u001b[1;33m\u001b[0m\u001b[1;33m\u001b[0m\u001b[0m\n\u001b[1;32m----> 3\u001b[1;33m       \u001b[0murllib\u001b[0m\u001b[1;33m.\u001b[0m\u001b[0mrequest\u001b[0m\u001b[1;33m.\u001b[0m\u001b[0murlretrieve\u001b[0m\u001b[1;33m(\u001b[0m\u001b[0mi\u001b[0m\u001b[1;33m,\u001b[0m\u001b[0mos\u001b[0m\u001b[1;33m.\u001b[0m\u001b[0mpath\u001b[0m\u001b[1;33m.\u001b[0m\u001b[0mjoin\u001b[0m\u001b[1;33m(\u001b[0m\u001b[0mstr\u001b[0m\u001b[1;33m(\u001b[0m\u001b[0mj\u001b[0m\u001b[1;33m)\u001b[0m\u001b[1;33m+\u001b[0m\u001b[1;34m\".jpg\"\u001b[0m\u001b[1;33m)\u001b[0m\u001b[1;33m)\u001b[0m\u001b[1;33m\u001b[0m\u001b[1;33m\u001b[0m\u001b[0m\n\u001b[0m",
      "\u001b[1;32m~\\anaconda3\\lib\\urllib\\request.py\u001b[0m in \u001b[0;36murlretrieve\u001b[1;34m(url, filename, reporthook, data)\u001b[0m\n\u001b[0;32m    243\u001b[0m     \u001b[0mdata\u001b[0m \u001b[0mfile\u001b[0m \u001b[1;32mas\u001b[0m \u001b[0mwell\u001b[0m \u001b[1;32mas\u001b[0m \u001b[0mthe\u001b[0m \u001b[0mresulting\u001b[0m \u001b[0mHTTPMessage\u001b[0m \u001b[0mobject\u001b[0m\u001b[1;33m.\u001b[0m\u001b[1;33m\u001b[0m\u001b[1;33m\u001b[0m\u001b[0m\n\u001b[0;32m    244\u001b[0m     \"\"\"\n\u001b[1;32m--> 245\u001b[1;33m     \u001b[0murl_type\u001b[0m\u001b[1;33m,\u001b[0m \u001b[0mpath\u001b[0m \u001b[1;33m=\u001b[0m \u001b[0m_splittype\u001b[0m\u001b[1;33m(\u001b[0m\u001b[0murl\u001b[0m\u001b[1;33m)\u001b[0m\u001b[1;33m\u001b[0m\u001b[1;33m\u001b[0m\u001b[0m\n\u001b[0m\u001b[0;32m    246\u001b[0m \u001b[1;33m\u001b[0m\u001b[0m\n\u001b[0;32m    247\u001b[0m     \u001b[1;32mwith\u001b[0m \u001b[0mcontextlib\u001b[0m\u001b[1;33m.\u001b[0m\u001b[0mclosing\u001b[0m\u001b[1;33m(\u001b[0m\u001b[0murlopen\u001b[0m\u001b[1;33m(\u001b[0m\u001b[0murl\u001b[0m\u001b[1;33m,\u001b[0m \u001b[0mdata\u001b[0m\u001b[1;33m)\u001b[0m\u001b[1;33m)\u001b[0m \u001b[1;32mas\u001b[0m \u001b[0mfp\u001b[0m\u001b[1;33m:\u001b[0m\u001b[1;33m\u001b[0m\u001b[1;33m\u001b[0m\u001b[0m\n",
      "\u001b[1;32m~\\anaconda3\\lib\\urllib\\parse.py\u001b[0m in \u001b[0;36m_splittype\u001b[1;34m(url)\u001b[0m\n\u001b[0;32m   1006\u001b[0m         \u001b[0m_typeprog\u001b[0m \u001b[1;33m=\u001b[0m \u001b[0mre\u001b[0m\u001b[1;33m.\u001b[0m\u001b[0mcompile\u001b[0m\u001b[1;33m(\u001b[0m\u001b[1;34m'([^/:]+):(.*)'\u001b[0m\u001b[1;33m,\u001b[0m \u001b[0mre\u001b[0m\u001b[1;33m.\u001b[0m\u001b[0mDOTALL\u001b[0m\u001b[1;33m)\u001b[0m\u001b[1;33m\u001b[0m\u001b[1;33m\u001b[0m\u001b[0m\n\u001b[0;32m   1007\u001b[0m \u001b[1;33m\u001b[0m\u001b[0m\n\u001b[1;32m-> 1008\u001b[1;33m     \u001b[0mmatch\u001b[0m \u001b[1;33m=\u001b[0m \u001b[0m_typeprog\u001b[0m\u001b[1;33m.\u001b[0m\u001b[0mmatch\u001b[0m\u001b[1;33m(\u001b[0m\u001b[0murl\u001b[0m\u001b[1;33m)\u001b[0m\u001b[1;33m\u001b[0m\u001b[1;33m\u001b[0m\u001b[0m\n\u001b[0m\u001b[0;32m   1009\u001b[0m     \u001b[1;32mif\u001b[0m \u001b[0mmatch\u001b[0m\u001b[1;33m:\u001b[0m\u001b[1;33m\u001b[0m\u001b[1;33m\u001b[0m\u001b[0m\n\u001b[0;32m   1010\u001b[0m         \u001b[0mscheme\u001b[0m\u001b[1;33m,\u001b[0m \u001b[0mdata\u001b[0m \u001b[1;33m=\u001b[0m \u001b[0mmatch\u001b[0m\u001b[1;33m.\u001b[0m\u001b[0mgroups\u001b[0m\u001b[1;33m(\u001b[0m\u001b[1;33m)\u001b[0m\u001b[1;33m\u001b[0m\u001b[1;33m\u001b[0m\u001b[0m\n",
      "\u001b[1;31mTypeError\u001b[0m: expected string or bytes-like object"
     ]
    }
   ],
   "source": [
    "if __name__==\"__main__\":\n",
    "    download_image(train_jeans)"
   ]
  },
  {
   "cell_type": "code",
   "execution_count": null,
   "metadata": {
    "executionInfo": {
     "elapsed": 21,
     "status": "aborted",
     "timestamp": 1623401697125,
     "user": {
      "displayName": "Lahari Kumaraswamy",
      "photoUrl": "",
      "userId": "15264609656971606035"
     },
     "user_tz": -330
    },
    "id": "Vbu89l42EQeT"
   },
   "outputs": [],
   "source": []
  },
  {
   "cell_type": "code",
   "execution_count": null,
   "metadata": {
    "executionInfo": {
     "elapsed": 34,
     "status": "aborted",
     "timestamp": 1623401697139,
     "user": {
      "displayName": "Lahari Kumaraswamy",
      "photoUrl": "",
      "userId": "15264609656971606035"
     },
     "user_tz": -330
    },
    "id": "TzJ60FjlEQie"
   },
   "outputs": [],
   "source": []
  },
  {
   "cell_type": "code",
   "execution_count": null,
   "metadata": {
    "executionInfo": {
     "elapsed": 35,
     "status": "aborted",
     "timestamp": 1623401697140,
     "user": {
      "displayName": "Lahari Kumaraswamy",
      "photoUrl": "",
      "userId": "15264609656971606035"
     },
     "user_tz": -330
    },
    "id": "THBmkwr0-uK7"
   },
   "outputs": [],
   "source": []
  },
  {
   "cell_type": "code",
   "execution_count": null,
   "metadata": {
    "executionInfo": {
     "elapsed": 36,
     "status": "aborted",
     "timestamp": 1623401697141,
     "user": {
      "displayName": "Lahari Kumaraswamy",
      "photoUrl": "",
      "userId": "15264609656971606035"
     },
     "user_tz": -330
    },
    "id": "i9KL6GQQ-uPD"
   },
   "outputs": [],
   "source": []
  },
  {
   "cell_type": "code",
   "execution_count": null,
   "metadata": {
    "executionInfo": {
     "elapsed": 37,
     "status": "aborted",
     "timestamp": 1623401697142,
     "user": {
      "displayName": "Lahari Kumaraswamy",
      "photoUrl": "",
      "userId": "15264609656971606035"
     },
     "user_tz": -330
    },
    "id": "zPrY_hZC-uSR"
   },
   "outputs": [],
   "source": []
  },
  {
   "cell_type": "code",
   "execution_count": null,
   "metadata": {
    "executionInfo": {
     "elapsed": 37,
     "status": "aborted",
     "timestamp": 1623401697143,
     "user": {
      "displayName": "Lahari Kumaraswamy",
      "photoUrl": "",
      "userId": "15264609656971606035"
     },
     "user_tz": -330
    },
    "id": "tzP6wPb4-uVd"
   },
   "outputs": [],
   "source": []
  }
 ],
 "metadata": {
  "colab": {
   "authorship_tag": "ABX9TyPWC3J8X3vGXceP0CuAmNCU",
   "collapsed_sections": [
    "0jhf9SHo-jYD"
   ],
   "mount_file_id": "12sX2wL8_dutpT_c6WY-npEF-BsyWX4nS",
   "name": "img processing.ipynb",
   "provenance": [
    {
     "file_id": "12sX2wL8_dutpT_c6WY-npEF-BsyWX4nS",
     "timestamp": 1623389627038
    }
   ]
  },
  "kernelspec": {
   "display_name": "Python 3",
   "language": "python",
   "name": "python3"
  },
  "language_info": {
   "codemirror_mode": {
    "name": "ipython",
    "version": 3
   },
   "file_extension": ".py",
   "mimetype": "text/x-python",
   "name": "python",
   "nbconvert_exporter": "python",
   "pygments_lexer": "ipython3",
   "version": "3.8.5"
  }
 },
 "nbformat": 4,
 "nbformat_minor": 1
}
